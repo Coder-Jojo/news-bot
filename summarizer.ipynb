{
  "nbformat": 4,
  "nbformat_minor": 0,
  "metadata": {
    "colab": {
      "provenance": []
    },
    "kernelspec": {
      "name": "python3",
      "display_name": "Python 3"
    },
    "language_info": {
      "name": "python"
    },
    "accelerator": "GPU",
    "gpuClass": "standard"
  },
  "cells": [
    {
      "cell_type": "code",
      "source": [
        "#installing transformers\n",
        "pip install transformers"
      ],
      "metadata": {
        "colab": {
          "base_uri": "https://localhost:8080/"
        },
        "id": "UKRqfXrBzpXN",
        "outputId": "3d8d280f-41ce-4976-eba0-cde83637ce5c"
      },
      "execution_count": 1,
      "outputs": [
        {
          "output_type": "stream",
          "name": "stdout",
          "text": [
            "Looking in indexes: https://pypi.org/simple, https://us-python.pkg.dev/colab-wheels/public/simple/\n",
            "Collecting transformers\n",
            "  Downloading transformers-4.24.0-py3-none-any.whl (5.5 MB)\n",
            "\u001b[K     |████████████████████████████████| 5.5 MB 7.6 MB/s \n",
            "\u001b[?25hRequirement already satisfied: tqdm>=4.27 in /usr/local/lib/python3.7/dist-packages (from transformers) (4.64.1)\n",
            "Requirement already satisfied: pyyaml>=5.1 in /usr/local/lib/python3.7/dist-packages (from transformers) (6.0)\n",
            "Requirement already satisfied: numpy>=1.17 in /usr/local/lib/python3.7/dist-packages (from transformers) (1.21.6)\n",
            "Collecting huggingface-hub<1.0,>=0.10.0\n",
            "  Downloading huggingface_hub-0.11.0-py3-none-any.whl (182 kB)\n",
            "\u001b[K     |████████████████████████████████| 182 kB 55.5 MB/s \n",
            "\u001b[?25hCollecting tokenizers!=0.11.3,<0.14,>=0.11.1\n",
            "  Downloading tokenizers-0.13.2-cp37-cp37m-manylinux_2_17_x86_64.manylinux2014_x86_64.whl (7.6 MB)\n",
            "\u001b[K     |████████████████████████████████| 7.6 MB 30.6 MB/s \n",
            "\u001b[?25hRequirement already satisfied: requests in /usr/local/lib/python3.7/dist-packages (from transformers) (2.23.0)\n",
            "Requirement already satisfied: importlib-metadata in /usr/local/lib/python3.7/dist-packages (from transformers) (4.13.0)\n",
            "Requirement already satisfied: regex!=2019.12.17 in /usr/local/lib/python3.7/dist-packages (from transformers) (2022.6.2)\n",
            "Requirement already satisfied: packaging>=20.0 in /usr/local/lib/python3.7/dist-packages (from transformers) (21.3)\n",
            "Requirement already satisfied: filelock in /usr/local/lib/python3.7/dist-packages (from transformers) (3.8.0)\n",
            "Requirement already satisfied: typing-extensions>=3.7.4.3 in /usr/local/lib/python3.7/dist-packages (from huggingface-hub<1.0,>=0.10.0->transformers) (4.1.1)\n",
            "Requirement already satisfied: pyparsing!=3.0.5,>=2.0.2 in /usr/local/lib/python3.7/dist-packages (from packaging>=20.0->transformers) (3.0.9)\n",
            "Requirement already satisfied: zipp>=0.5 in /usr/local/lib/python3.7/dist-packages (from importlib-metadata->transformers) (3.10.0)\n",
            "Requirement already satisfied: certifi>=2017.4.17 in /usr/local/lib/python3.7/dist-packages (from requests->transformers) (2022.9.24)\n",
            "Requirement already satisfied: idna<3,>=2.5 in /usr/local/lib/python3.7/dist-packages (from requests->transformers) (2.10)\n",
            "Requirement already satisfied: chardet<4,>=3.0.2 in /usr/local/lib/python3.7/dist-packages (from requests->transformers) (3.0.4)\n",
            "Requirement already satisfied: urllib3!=1.25.0,!=1.25.1,<1.26,>=1.21.1 in /usr/local/lib/python3.7/dist-packages (from requests->transformers) (1.24.3)\n",
            "Installing collected packages: tokenizers, huggingface-hub, transformers\n",
            "Successfully installed huggingface-hub-0.11.0 tokenizers-0.13.2 transformers-4.24.0\n"
          ]
        }
      ]
    },
    {
      "cell_type": "code",
      "source": [
        "#importing libraries\n",
        "from transformers import pipeline\n",
        "import os"
      ],
      "metadata": {
        "id": "arg7S27rz8N2"
      },
      "execution_count": 2,
      "outputs": []
    },
    {
      "cell_type": "code",
      "source": [
        "#setting gpu\n",
        "os.environ[\"CUDA_VISIBLE_DEVICES\"] = \"0\""
      ],
      "metadata": {
        "id": "i8LQFGxf0Ek6"
      },
      "execution_count": 3,
      "outputs": []
    },
    {
      "cell_type": "code",
      "source": [
        "# BART model to use\n",
        "summarizer1 = pipeline(\"summarization\")"
      ],
      "metadata": {
        "colab": {
          "base_uri": "https://localhost:8080/"
        },
        "id": "0ESvA5Ds0HuI",
        "outputId": "9cd4d099-1f43-487a-ede1-de1905014285"
      },
      "execution_count": 12,
      "outputs": [
        {
          "output_type": "stream",
          "name": "stderr",
          "text": [
            "No model was supplied, defaulted to sshleifer/distilbart-cnn-12-6 and revision a4f8f3e (https://huggingface.co/sshleifer/distilbart-cnn-12-6).\n",
            "Using a pipeline without specifying a model name and revision in production is not recommended.\n"
          ]
        }
      ]
    },
    {
      "cell_type": "code",
      "source": [
        "#t-5 model trained on c4 common crawl web corpus\n",
        "summarizer2 = pipeline(\"summarization\", model=\"t5-base\", tokenizer=\"t5-base\", framework=\"tf\")"
      ],
      "metadata": {
        "colab": {
          "base_uri": "https://localhost:8080/"
        },
        "id": "AF7iFnGA0Lua",
        "outputId": "fe6128d1-771b-4ed8-eeaa-0ec9aebd871f"
      },
      "execution_count": 14,
      "outputs": [
        {
          "output_type": "stream",
          "name": "stderr",
          "text": [
            "All model checkpoint layers were used when initializing TFT5ForConditionalGeneration.\n",
            "\n",
            "All the layers of TFT5ForConditionalGeneration were initialized from the model checkpoint at t5-base.\n",
            "If your task is similar to the task the model of the checkpoint was trained on, you can already use TFT5ForConditionalGeneration for predictions without further training.\n"
          ]
        }
      ]
    },
    {
      "cell_type": "code",
      "source": [
        "text1=\"\"\"US President Donald Trump has called the White House a ?real dump?, and said that he preferred staying at his own properties rather than at the executive mansion, a media report said.The White House did not immediately respond to a request for comment about the account, which appeared on the website Golf.com. The hotelier-turned-POTUS reportedly told members of his Trump National Golf Course in Bedminster, New Jersey, that he preferred staying at his own properties rather than at 1600 Pennsylvania Ave NW, because the executive mansion is ?a real dump?, the Washington Post reported, citing the article on Golf.com as saying.Trump, in a May interview with Time magazine, had praised the White House for its ?beautiful kitchen?, ?amazing? phone system and ?incredible? historical furniture. ?People have no idea the beauty of the White House. The real beauty of the White House,? Trump earlier said.Meanwhile, taking aim at the US President, former first daughter Chelsea Clinton, who spent most of her teen years as a White House resident spoke out in support of the White House staff, thanking the ?ushers, butlers, maids, chefs, florists,? etc, for all the hard work they do.Representative Dina Titus, a Democrat, also urged Trump to take his family and move out of the White House if he was unhappy with conditions.Trump spent a good deal of time away from the White House, including 21 of his first 26 weekends, according to CNN count, mostly at his luxury Mar-a-Lago resort in Palm Beach, Florida.\"\"\""
      ],
      "metadata": {
        "id": "EE59xtbS0g0u"
      },
      "execution_count": 10,
      "outputs": []
    },
    {
      "cell_type": "code",
      "source": [
        "text2 = \"\"\"One month after the United States began what has become a troubled rollout of a national COVID vaccination campaign, the effort is finally gathering real steam.\n",
        "Close to a million doses -- over 951,000, to be more exact -- made their way into the arms of Americans in the past 24 hours, the U.S. Centers for Disease Control and Prevention reported Wednesday. That's the largest number of shots given in one day since the rollout began and a big jump from the previous day, when just under 340,000 doses were given, CBS News reported.\n",
        "That number is likely to jump quickly after the federal government on Tuesday gave states the OK to vaccinate anyone over 65 and said it would release all the doses of vaccine it has available for distribution. Meanwhile, a number of states have now opened mass vaccination sites in an effort to get larger numbers of people inoculated, CBS News reported.\"\"\""
      ],
      "metadata": {
        "id": "dvbyofoN0P_k"
      },
      "execution_count": 7,
      "outputs": []
    },
    {
      "cell_type": "code",
      "source": [
        "#printing the summary1 using BART Model\n",
        "summary_text1 = summarizer1(text1, max_length=100, min_length=5, do_sample=False)[0]['summary_text']\n",
        "print(summary_text1)"
      ],
      "metadata": {
        "colab": {
          "base_uri": "https://localhost:8080/"
        },
        "id": "GUt68L_N0tS2",
        "outputId": "b04283cd-77b8-432d-882a-b77492f87034"
      },
      "execution_count": 15,
      "outputs": [
        {
          "output_type": "stream",
          "name": "stdout",
          "text": [
            " US President Donald Trump has called the White House a ?real dump? The hotelier-turned-POTUS reportedly told members of his Trump National Golf Course in Bedminster, New Jersey, that he preferred staying at his own properties rather than at 1600 Pennsylvania Ave NW . The White House did not immediately respond to a request for comment .\n"
          ]
        }
      ]
    },
    {
      "cell_type": "code",
      "source": [
        "#printing the summary1 using T-5 Model\n",
        "summary_text1 = summarizer2(text1, max_length=100, min_length=5, do_sample=False)[0]['summary_text']\n",
        "print(summary_text1)"
      ],
      "metadata": {
        "colab": {
          "base_uri": "https://localhost:8080/"
        },
        "id": "RlQFAVBC7tdz",
        "outputId": "b5e6a54b-f974-486c-8e7b-34de4e9424c2"
      },
      "execution_count": 16,
      "outputs": [
        {
          "output_type": "stream",
          "name": "stdout",
          "text": [
            "the white house did not immediately respond to a request for comment . the hotelier-turned-POTUS reportedly said he preferred staying at his own properties . he said the executive mansion is a ?real dump?\n"
          ]
        }
      ]
    },
    {
      "cell_type": "code",
      "source": [
        "#printing the summary2 using BART model\n",
        "summary_text2 = summarizer1(text2, max_length=100, min_length=5, do_sample=False)[0]['summary_text']\n",
        "print(summary_text2)"
      ],
      "metadata": {
        "colab": {
          "base_uri": "https://localhost:8080/"
        },
        "id": "hJzQGWcZ75uK",
        "outputId": "523d96e7-8626-4994-a842-e7af71f1b14a"
      },
      "execution_count": 17,
      "outputs": [
        {
          "output_type": "stream",
          "name": "stdout",
          "text": [
            " Over 951,000 doses of vaccine were given in the past 24 hours . That's the largest number of shots given in one day since the rollout began . The federal government on Tuesday gave states the OK to vaccinate anyone over 65 .\n"
          ]
        }
      ]
    },
    {
      "cell_type": "code",
      "source": [
        "#printing the summary2 using T-5 model\n",
        "summary_text2 = summarizer2(text2, max_length=100, min_length=5, do_sample=False)[0]['summary_text']\n",
        "print(summary_text2)"
      ],
      "metadata": {
        "colab": {
          "base_uri": "https://localhost:8080/"
        },
        "id": "6VlV5pZG0vco",
        "outputId": "892523eb-8eaa-4516-ca2c-7467eef17181"
      },
      "execution_count": 18,
      "outputs": [
        {
          "output_type": "stream",
          "name": "stdout",
          "text": [
            "close to a million doses have been given in the past 24 hours, the cdc says . that's the largest number of shots given in one day since the rollout began . a number of states have opened mass vaccination sites to get more people inoculated .\n"
          ]
        }
      ]
    }
  ]
}
